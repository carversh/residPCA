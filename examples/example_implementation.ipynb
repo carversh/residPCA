{
 "cells": [
  {
   "cell_type": "code",
   "execution_count": 1,
   "metadata": {},
   "outputs": [],
   "source": [
    "from residPCA import *"
   ]
  },
  {
   "cell_type": "code",
   "execution_count": 15,
   "metadata": {},
   "outputs": [
    {
     "name": "stdout",
     "output_type": "stream",
     "text": [
      "Finding most variable genes using 'seurat' flavor.\n",
      "Using \"seurat\" flavor to compute variable genes in Iterative PCA on ASC.\n",
      "Warning: Some genes have 0 variance when performing iterative PCA on ASC cells. 41 genes will be removed from the ASC counts matrix.\n"
     ]
    },
    {
     "name": "stderr",
     "output_type": "stream",
     "text": [
      "/Users/shayecarver/opt/anaconda3/envs/condPCA/lib/python3.8/site-packages/scanpy/preprocessing/_highly_variable_genes.py:279: UserWarning: `n_top_genes` > number of normalized dispersions, returning all genes with normalized dispersions.\n",
      "  warnings.warn(\n"
     ]
    },
    {
     "name": "stdout",
     "output_type": "stream",
     "text": [
      "Using \"seurat\" flavor to compute variable genes in Iterative PCA on EX.\n",
      "Warning: Some genes have 0 variance when performing iterative PCA on EX cells. 19 genes will be removed from the EX counts matrix.\n"
     ]
    },
    {
     "name": "stderr",
     "output_type": "stream",
     "text": [
      "/Users/shayecarver/opt/anaconda3/envs/condPCA/lib/python3.8/site-packages/scanpy/preprocessing/_highly_variable_genes.py:279: UserWarning: `n_top_genes` > number of normalized dispersions, returning all genes with normalized dispersions.\n",
      "  warnings.warn(\n"
     ]
    },
    {
     "name": "stdout",
     "output_type": "stream",
     "text": [
      "Using \"seurat\" flavor to compute variable genes in Iterative PCA on INH.\n",
      "Warning: Some genes have 0 variance when performing iterative PCA on INH cells. 144 genes will be removed from the INH counts matrix.\n"
     ]
    },
    {
     "name": "stderr",
     "output_type": "stream",
     "text": [
      "/Users/shayecarver/opt/anaconda3/envs/condPCA/lib/python3.8/site-packages/scanpy/preprocessing/_highly_variable_genes.py:279: UserWarning: `n_top_genes` > number of normalized dispersions, returning all genes with normalized dispersions.\n",
      "  warnings.warn(\n"
     ]
    },
    {
     "name": "stdout",
     "output_type": "stream",
     "text": [
      "Using \"seurat\" flavor to compute variable genes in Iterative PCA on MG.\n",
      "Warning: Some genes have 0 variance when performing iterative PCA on MG cells. 135 genes will be removed from the MG counts matrix.\n"
     ]
    },
    {
     "name": "stderr",
     "output_type": "stream",
     "text": [
      "/Users/shayecarver/opt/anaconda3/envs/condPCA/lib/python3.8/site-packages/scanpy/preprocessing/_highly_variable_genes.py:279: UserWarning: `n_top_genes` > number of normalized dispersions, returning all genes with normalized dispersions.\n",
      "  warnings.warn(\n"
     ]
    },
    {
     "name": "stdout",
     "output_type": "stream",
     "text": [
      "Using \"seurat\" flavor to compute variable genes in Iterative PCA on ODC.\n",
      "Warning: Some genes have 0 variance when performing iterative PCA on ODC cells. 34 genes will be removed from the ODC counts matrix.\n"
     ]
    },
    {
     "name": "stderr",
     "output_type": "stream",
     "text": [
      "/Users/shayecarver/opt/anaconda3/envs/condPCA/lib/python3.8/site-packages/scanpy/preprocessing/_highly_variable_genes.py:279: UserWarning: `n_top_genes` > number of normalized dispersions, returning all genes with normalized dispersions.\n",
      "  warnings.warn(\n"
     ]
    },
    {
     "name": "stdout",
     "output_type": "stream",
     "text": [
      "Using \"seurat\" flavor to compute variable genes in Iterative PCA on OPC.\n",
      "Warning: Some genes have 0 variance when performing iterative PCA on OPC cells. 300 genes will be removed from the OPC counts matrix.\n"
     ]
    },
    {
     "name": "stderr",
     "output_type": "stream",
     "text": [
      "/Users/shayecarver/opt/anaconda3/envs/condPCA/lib/python3.8/site-packages/scanpy/preprocessing/_highly_variable_genes.py:279: UserWarning: `n_top_genes` > number of normalized dispersions, returning all genes with normalized dispersions.\n",
      "  warnings.warn(\n"
     ]
    },
    {
     "name": "stdout",
     "output_type": "stream",
     "text": [
      "Warning: Cell type PER.END has less than 75 cells and 150 principal components were requested.\n",
      "Reducing the number of PCs for PER.END Iterative PCA to 56.\n",
      "Using \"seurat\" flavor to compute variable genes in Iterative PCA on PER.END.\n",
      "Warning: Some genes have 0 variance when performing iterative PCA on PER.END cells. 420 genes will be removed from the PER.END counts matrix.\n"
     ]
    },
    {
     "name": "stderr",
     "output_type": "stream",
     "text": [
      "/Users/shayecarver/opt/anaconda3/envs/condPCA/lib/python3.8/site-packages/scanpy/preprocessing/_highly_variable_genes.py:279: UserWarning: `n_top_genes` > number of normalized dispersions, returning all genes with normalized dispersions.\n",
      "  warnings.warn(\n"
     ]
    }
   ],
   "source": [
    "scExp = residPCA(count_matrix_path=\"/Users/shayecarver/residPCA/examples/example_data.h5ad\", \n",
    "               vars_to_regress=['Batch','celltype','total_counts', 'pct_counts_mt','Age','Sex'],\n",
    "               object_columns=['celltype','Sex','Batch'], \n",
    "               save_image_outputs=False, \n",
    "               BIC=True, \n",
    "               vargenes_Stand_resid=3000,\n",
    "               n_PCs = 150,\n",
    "               random_seed=7, \n",
    "               vargenes_IterPCA=3000, \n",
    "               #path_to_directory = \"./\", \n",
    "               #basename=f'Morab_RNA_3kvargenes_seurat',\n",
    "               variable_genes_flavor=\"seurat\",  \n",
    "               global_ct_cutoff=0.2)  \n",
    "scExp.Normalize() \n",
    "scExp.Standardize()\n",
    "scExp.StandardPCA_fit()\n",
    "scExp.residPCA_fit()\n",
    "scExp.Iter_PCA_fit()\n",
    "# identify global versus cell type specific states\n",
    "scExp.ID_Global_CellType_States()\n"
   ]
  },
  {
   "cell_type": "code",
   "execution_count": null,
   "metadata": {},
   "outputs": [],
   "source": []
  }
 ],
 "metadata": {
  "kernelspec": {
   "display_name": "condPCA",
   "language": "python",
   "name": "python3"
  },
  "language_info": {
   "codemirror_mode": {
    "name": "ipython",
    "version": 3
   },
   "file_extension": ".py",
   "mimetype": "text/x-python",
   "name": "python",
   "nbconvert_exporter": "python",
   "pygments_lexer": "ipython3",
   "version": "3.8.18"
  }
 },
 "nbformat": 4,
 "nbformat_minor": 2
}
