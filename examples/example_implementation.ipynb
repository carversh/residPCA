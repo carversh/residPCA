{
 "cells": [
  {
   "cell_type": "code",
   "execution_count": 4,
   "metadata": {},
   "outputs": [],
   "source": [
    "import sys\n",
    "sys.path.append('/Users/shayecarver/residPCA/src/')\n",
    "from residPCA import *"
   ]
  },
  {
   "cell_type": "code",
   "execution_count": null,
   "metadata": {},
   "outputs": [
    {
     "name": "stdout",
     "output_type": "stream",
     "text": [
      "Directory './Morab_RNA_3kvargenes_seurat' created successfully.\n",
      "Finding most variable genes using 'seurat' flavor.\n"
     ]
    }
   ],
   "source": [
    "Morab_RNA = residPCA(count_matrix_path=\"/Users/shayecarver/condPCA/Morabito/RNA/data/Morabito_RNA_QC_RAW_COUNTS.h5ad\", \n",
    "               vars_to_regress=['Batch','celltype','total_counts', 'pct_counts_mt','Age','Sex'],\n",
    "               object_columns=['celltype','Sex','Batch'], \n",
    "               save_image_outputs=True, \n",
    "               BIC=True, \n",
    "               vargenes_Stand_resid=3000,\n",
    "               n_PCs = 150,\n",
    "               random_seed=7, \n",
    "               vargenes_IterPCA=3000, \n",
    "               path_to_directory = \"./\", \n",
    "               basename=f'Morab_RNA_3kvargenes_seurat',\n",
    "               variable_genes_flavor=\"seurat\",  \n",
    "               global_ct_cutoff=0.2)  \n",
    "Morab_RNA.Normalize() \n",
    "Morab_RNA.Standardize()\n",
    "Morab_RNA.StandardPCA_fit()\n",
    "Morab_RNA.CondPCA_fit()\n",
    "Morab_RNA.Iter_PCA_fit()\n",
    "# identify global versus cell type specific states\n",
    "Morab_RNA.ID_Global_CellType_States()"
   ]
  },
  {
   "cell_type": "code",
   "execution_count": null,
   "metadata": {},
   "outputs": [],
   "source": []
  }
 ],
 "metadata": {
  "kernelspec": {
   "display_name": "condPCA",
   "language": "python",
   "name": "python3"
  },
  "language_info": {
   "codemirror_mode": {
    "name": "ipython",
    "version": 3
   },
   "file_extension": ".py",
   "mimetype": "text/x-python",
   "name": "python",
   "nbconvert_exporter": "python",
   "pygments_lexer": "ipython3",
   "version": "3.8.18"
  }
 },
 "nbformat": 4,
 "nbformat_minor": 2
}
