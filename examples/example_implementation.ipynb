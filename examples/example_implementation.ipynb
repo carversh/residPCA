{
 "cells": [
  {
   "cell_type": "code",
   "execution_count": null,
   "metadata": {},
   "outputs": [],
   "source": [
    "# import sys\n",
    "# import os\n",
    "\n",
    "# # Specify the path to the directory containing residPCA.py\n",
    "# script_path = \"/Users/shayecarver/residPCA/src/residPCA\"\n",
    "\n",
    "# # Add the path to the system path\n",
    "# sys.path.append(os.path.abspath(script_path))\n",
    "\n",
    "from residPCA import *"
   ]
  },
  {
   "cell_type": "code",
   "execution_count": null,
   "metadata": {},
   "outputs": [
    {
     "name": "stdout",
     "output_type": "stream",
     "text": [
      "Directory './ResidPCA_run_2024-12-15_17_20_36' created successfully.\n",
      "Finding most variable genes using 'seurat' flavor.\n",
      "Using \"seurat\" flavor to compute variable genes in Iterative PCA on MG.\n",
      "Using \"seurat\" flavor to compute variable genes in Iterative PCA on OPC.\n"
     ]
    }
   ],
   "source": [
    "scExp = residPCA(count_matrix_path=\"/Users/shayecarver/residPCA/examples/example_data.h5ad\", \n",
    "               vars_to_regress=['Batch','celltype','total_counts', 'pct_counts_mt','Age','Sex'],\n",
    "               object_columns=['celltype','Sex','Batch'], \n",
    "               save_image_outputs=True, \n",
    "               BIC=True, \n",
    "               vargenes_Stand_resid=3000,\n",
    "               n_PCs = 150,\n",
    "               random_seed=7, \n",
    "               vargenes_IterPCA=3000, \n",
    "               #path_to_directory = \"./\", \n",
    "               #basename=f'Morab_RNA_3kvargenes_seurat',\n",
    "               variable_genes_flavor=\"seurat\",  \n",
    "               global_ct_cutoff=0.2)  \n",
    "scExp.Normalize() \n",
    "scExp.Standardize()\n",
    "scExp.StandardPCA_fit()\n",
    "scExp.residPCA_fit()\n",
    "scExp.Iter_PCA_fit()\n",
    "# identify global versus cell type specific states\n",
    "scExp.ID_Global_CellType_States()\n",
    "#write BED files for heritability analysis\n",
    "scExp.heritability_bed_output(\"~/residPCA/gencode.v39.basic.annotation.names.bed\", 200, \"Resid\")\n",
    "scExp.heritability_bed_output(\"~/residPCA/gencode.v39.basic.annotation.names.bed\", 200, \"Resid\")\n",
    "scExp.heritability_bed_output(\"~/residPCA/gencode.v39.basic.annotation.names.bed\", 200, \"Resid\")\n"
   ]
  }
 ],
 "metadata": {
  "kernelspec": {
   "display_name": "condPCA",
   "language": "python",
   "name": "python3"
  },
  "language_info": {
   "codemirror_mode": {
    "name": "ipython",
    "version": 3
   },
   "file_extension": ".py",
   "mimetype": "text/x-python",
   "name": "python",
   "nbconvert_exporter": "python",
   "pygments_lexer": "ipython3",
   "version": "3.8.18"
  }
 },
 "nbformat": 4,
 "nbformat_minor": 2
}
