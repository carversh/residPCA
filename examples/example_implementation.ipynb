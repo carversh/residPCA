{
 "cells": [
  {
   "cell_type": "code",
   "execution_count": 4,
   "metadata": {},
   "outputs": [],
   "source": [
    "from residPCA import *"
   ]
  },
  {
   "cell_type": "code",
   "execution_count": 5,
   "metadata": {},
   "outputs": [
    {
     "ename": "NameError",
     "evalue": "name 'residPCA' is not defined",
     "output_type": "error",
     "traceback": [
      "\u001b[0;31m---------------------------------------------------------------------------\u001b[0m",
      "\u001b[0;31mNameError\u001b[0m                                 Traceback (most recent call last)",
      "Cell \u001b[0;32mIn[5], line 1\u001b[0m\n\u001b[0;32m----> 1\u001b[0m scExp \u001b[38;5;241m=\u001b[39m \u001b[43mresidPCA\u001b[49m(count_matrix_path\u001b[38;5;241m=\u001b[39m\u001b[38;5;124m\"\u001b[39m\u001b[38;5;124m/Users/shayecarver/residPCA/examples/example_data.h5ad\u001b[39m\u001b[38;5;124m\"\u001b[39m, \n\u001b[1;32m      2\u001b[0m                vars_to_regress\u001b[38;5;241m=\u001b[39m[\u001b[38;5;124m'\u001b[39m\u001b[38;5;124mBatch\u001b[39m\u001b[38;5;124m'\u001b[39m,\u001b[38;5;124m'\u001b[39m\u001b[38;5;124mcelltype\u001b[39m\u001b[38;5;124m'\u001b[39m,\u001b[38;5;124m'\u001b[39m\u001b[38;5;124mtotal_counts\u001b[39m\u001b[38;5;124m'\u001b[39m, \u001b[38;5;124m'\u001b[39m\u001b[38;5;124mpct_counts_mt\u001b[39m\u001b[38;5;124m'\u001b[39m,\u001b[38;5;124m'\u001b[39m\u001b[38;5;124mAge\u001b[39m\u001b[38;5;124m'\u001b[39m,\u001b[38;5;124m'\u001b[39m\u001b[38;5;124mSex\u001b[39m\u001b[38;5;124m'\u001b[39m],\n\u001b[1;32m      3\u001b[0m                object_columns\u001b[38;5;241m=\u001b[39m[\u001b[38;5;124m'\u001b[39m\u001b[38;5;124mcelltype\u001b[39m\u001b[38;5;124m'\u001b[39m,\u001b[38;5;124m'\u001b[39m\u001b[38;5;124mSex\u001b[39m\u001b[38;5;124m'\u001b[39m,\u001b[38;5;124m'\u001b[39m\u001b[38;5;124mBatch\u001b[39m\u001b[38;5;124m'\u001b[39m], \n\u001b[1;32m      4\u001b[0m                save_image_outputs\u001b[38;5;241m=\u001b[39m\u001b[38;5;28;01mFalse\u001b[39;00m, \n\u001b[1;32m      5\u001b[0m                BIC\u001b[38;5;241m=\u001b[39m\u001b[38;5;28;01mTrue\u001b[39;00m, \n\u001b[1;32m      6\u001b[0m                vargenes_Stand_resid\u001b[38;5;241m=\u001b[39m\u001b[38;5;241m3000\u001b[39m,\n\u001b[1;32m      7\u001b[0m                n_PCs \u001b[38;5;241m=\u001b[39m \u001b[38;5;241m150\u001b[39m,\n\u001b[1;32m      8\u001b[0m                random_seed\u001b[38;5;241m=\u001b[39m\u001b[38;5;241m7\u001b[39m, \n\u001b[1;32m      9\u001b[0m                vargenes_IterPCA\u001b[38;5;241m=\u001b[39m\u001b[38;5;241m3000\u001b[39m, \n\u001b[1;32m     10\u001b[0m                \u001b[38;5;66;03m#path_to_directory = \"./\", \u001b[39;00m\n\u001b[1;32m     11\u001b[0m                \u001b[38;5;66;03m#basename=f'Morab_RNA_3kvargenes_seurat',\u001b[39;00m\n\u001b[1;32m     12\u001b[0m                variable_genes_flavor\u001b[38;5;241m=\u001b[39m\u001b[38;5;124m\"\u001b[39m\u001b[38;5;124mseurat\u001b[39m\u001b[38;5;124m\"\u001b[39m,  \n\u001b[1;32m     13\u001b[0m                global_ct_cutoff\u001b[38;5;241m=\u001b[39m\u001b[38;5;241m0.2\u001b[39m)  \n\u001b[1;32m     14\u001b[0m scExp\u001b[38;5;241m.\u001b[39mNormalize() \n\u001b[1;32m     15\u001b[0m scExp\u001b[38;5;241m.\u001b[39mStandardize()\n",
      "\u001b[0;31mNameError\u001b[0m: name 'residPCA' is not defined"
     ]
    }
   ],
   "source": [
    "scExp = residPCA(count_matrix_path=\"/Users/shayecarver/residPCA/examples/example_data.h5ad\", \n",
    "               vars_to_regress=['Batch','celltype','total_counts', 'pct_counts_mt','Age','Sex'],\n",
    "               object_columns=['celltype','Sex','Batch'], \n",
    "               save_image_outputs=False, \n",
    "               BIC=True, \n",
    "               vargenes_Stand_resid=3000,\n",
    "               n_PCs = 150,\n",
    "               random_seed=7, \n",
    "               vargenes_IterPCA=3000, \n",
    "               #path_to_directory = \"./\", \n",
    "               #basename=f'Morab_RNA_3kvargenes_seurat',\n",
    "               variable_genes_flavor=\"seurat\",  \n",
    "               global_ct_cutoff=0.2)  \n",
    "scExp.Normalize() \n",
    "scExp.Standardize()\n",
    "scExp.StandardPCA_fit()\n",
    "scExp.residPCA_fit()\n",
    "scExp.Iter_PCA_fit()\n",
    "# identify global versus cell type specific states\n",
    "scExp.ID_Global_CellType_States()\n"
   ]
  },
  {
   "cell_type": "code",
   "execution_count": null,
   "metadata": {},
   "outputs": [],
   "source": []
  }
 ],
 "metadata": {
  "kernelspec": {
   "display_name": "test_ResidPCA",
   "language": "python",
   "name": "python3"
  },
  "language_info": {
   "codemirror_mode": {
    "name": "ipython",
    "version": 3
   },
   "file_extension": ".py",
   "mimetype": "text/x-python",
   "name": "python",
   "nbconvert_exporter": "python",
   "pygments_lexer": "ipython3",
   "version": "3.8.18"
  }
 },
 "nbformat": 4,
 "nbformat_minor": 2
}
