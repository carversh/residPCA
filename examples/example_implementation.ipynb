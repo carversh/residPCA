{
 "cells": [
  {
   "cell_type": "code",
   "execution_count": 2,
   "metadata": {},
   "outputs": [
    {
     "name": "stdout",
     "output_type": "stream",
     "text": [
      "Finding most variable genes using 'seurat' flavor.\n",
      "Using \"seurat\" flavor to compute variable genes in Iterative PCA on ASC.\n",
      "Using \"seurat\" flavor to compute variable genes in Iterative PCA on EX.\n",
      "Using \"seurat\" flavor to compute variable genes in Iterative PCA on INH.\n",
      "Using \"seurat\" flavor to compute variable genes in Iterative PCA on MG.\n",
      "Using \"seurat\" flavor to compute variable genes in Iterative PCA on ODC.\n",
      "Using \"seurat\" flavor to compute variable genes in Iterative PCA on OPC.\n",
      "Using \"seurat\" flavor to compute variable genes in Iterative PCA on PER.END.\n"
     ]
    }
   ],
   "source": [
    "import sys\n",
    "sys.path.append('/Users/shayecarver/residPCA/src/')\n",
    "from residPCA import *\n",
    "\n",
    "Morab_RNA = residPCA(count_matrix_path=\"/Users/shayecarver/condPCA/Morabito/RNA/data/Morabito_RNA_QC_RAW_COUNTS.h5ad\", \n",
    "               vars_to_regress=['Batch','celltype','total_counts', 'pct_counts_mt','Age','Sex'],\n",
    "               object_columns=['celltype','Sex','Batch'], \n",
    "               save_image_outputs=False, \n",
    "               BIC=True, \n",
    "               vargenes_Stand_resid=3000,\n",
    "               n_PCs = 150,\n",
    "               random_seed=7, \n",
    "               vargenes_IterPCA=3000, \n",
    "               #path_to_directory = \"./\", \n",
    "               #basename=f'Morab_RNA_3kvargenes_seurat',\n",
    "               variable_genes_flavor=\"seurat\",  \n",
    "               global_ct_cutoff=0.2)  \n",
    "Morab_RNA.Normalize() \n",
    "Morab_RNA.Standardize()\n",
    "Morab_RNA.StandardPCA_fit()\n",
    "Morab_RNA.residPCA_fit()\n",
    "Morab_RNA.Iter_PCA_fit()\n",
    "# identify global versus cell type specific states\n",
    "Morab_RNA.ID_Global_CellType_States()\n"
   ]
  },
  {
   "cell_type": "code",
   "execution_count": null,
   "metadata": {},
   "outputs": [],
   "source": []
  }
 ],
 "metadata": {
  "kernelspec": {
   "display_name": "condPCA",
   "language": "python",
   "name": "python3"
  },
  "language_info": {
   "codemirror_mode": {
    "name": "ipython",
    "version": 3
   },
   "file_extension": ".py",
   "mimetype": "text/x-python",
   "name": "python",
   "nbconvert_exporter": "python",
   "pygments_lexer": "ipython3",
   "version": "3.8.18"
  }
 },
 "nbformat": 4,
 "nbformat_minor": 2
}
